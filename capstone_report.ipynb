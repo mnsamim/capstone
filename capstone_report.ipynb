{
 "cells": [
  {
   "cell_type": "code",
   "execution_count": 2,
   "metadata": {},
   "outputs": [
    {
     "name": "stderr",
     "output_type": "stream",
     "text": [
      "C:\\Users\\ms4421\\AppData\\Local\\Continuum\\anaconda2\\envs\\py35\\lib\\site-packages\\h5py\\__init__.py:36: FutureWarning: Conversion of the second argument of issubdtype from `float` to `np.floating` is deprecated. In future, it will be treated as `np.float64 == np.dtype(float).type`.\n",
      "  from ._conv import register_converters as _register_converters\n",
      "Using TensorFlow backend.\n"
     ]
    }
   ],
   "source": [
    "import pandas as pd\n",
    "import json\n",
    "import numpy as np\n",
    "import re\n",
    "import matplotlib\n",
    "from pandas.io.json import json_normalize\n",
    "from jsoncomment import JsonComment\n",
    "from keras.models import Sequential\n",
    "from keras.layers import Dense\n",
    "from keras.layers import LSTM\n",
    "\n",
    "#from sklearn.pipeline import TransformerMixin\n",
    "from sklearn.pipeline import Pipeline\n",
    "from sklearn.pipeline import FeatureUnion\n",
    "\n",
    "\n",
    "from sklearn.cluster import DBSCAN\n",
    "from numpy import concatenate\n",
    "import math\n",
    "from sklearn.metrics import mean_squared_error\n",
    "from sklearn.metrics import r2_score\n",
    "import dill as pickle\n",
    "from sklearn.externals import joblib"
   ]
  },
  {
   "cell_type": "code",
   "execution_count": 3,
   "metadata": {},
   "outputs": [
    {
     "data": {
      "text/html": [
       "<div>\n",
       "<style>\n",
       "    .dataframe thead tr:only-child th {\n",
       "        text-align: right;\n",
       "    }\n",
       "\n",
       "    .dataframe thead th {\n",
       "        text-align: left;\n",
       "    }\n",
       "\n",
       "    .dataframe tbody tr th {\n",
       "        vertical-align: top;\n",
       "    }\n",
       "</style>\n",
       "<table border=\"1\" class=\"dataframe\">\n",
       "  <thead>\n",
       "    <tr style=\"text-align: right;\">\n",
       "      <th></th>\n",
       "      <th>county</th>\n",
       "      <th>district</th>\n",
       "      <th>school</th>\n",
       "      <th>primary_job</th>\n",
       "      <th>fte</th>\n",
       "      <th>salary</th>\n",
       "      <th>certificate</th>\n",
       "      <th>subcategory</th>\n",
       "      <th>teaching_route</th>\n",
       "      <th>highly_qualified</th>\n",
       "      <th>experience_district</th>\n",
       "      <th>experience_nj</th>\n",
       "      <th>experience_total</th>\n",
       "    </tr>\n",
       "  </thead>\n",
       "  <tbody>\n",
       "    <tr>\n",
       "      <th>0</th>\n",
       "      <td>Atlantic</td>\n",
       "      <td>Atlantic City</td>\n",
       "      <td>Pennsylvania Ave School</td>\n",
       "      <td>Mathematics Grades 5 - 8</td>\n",
       "      <td>1.0</td>\n",
       "      <td>98774</td>\n",
       "      <td>Standard certificate</td>\n",
       "      <td>General ed</td>\n",
       "      <td>Traditional</td>\n",
       "      <td>Not highly qualified</td>\n",
       "      <td>13.0</td>\n",
       "      <td>13.0</td>\n",
       "      <td>13.0</td>\n",
       "    </tr>\n",
       "    <tr>\n",
       "      <th>1</th>\n",
       "      <td>Atlantic</td>\n",
       "      <td>Atlantic City</td>\n",
       "      <td>Atlantic City High School</td>\n",
       "      <td>Coordinator Substance Abuse</td>\n",
       "      <td>1.0</td>\n",
       "      <td>118415</td>\n",
       "      <td>Standard certificate</td>\n",
       "      <td>General ed</td>\n",
       "      <td>Traditional</td>\n",
       "      <td>Doesn't need to be highly qualified</td>\n",
       "      <td>16.0</td>\n",
       "      <td>16.0</td>\n",
       "      <td>16.0</td>\n",
       "    </tr>\n",
       "    <tr>\n",
       "      <th>2</th>\n",
       "      <td>Atlantic</td>\n",
       "      <td>Atlantic City</td>\n",
       "      <td>Atlantic City High School</td>\n",
       "      <td>Health &amp; Physical Education</td>\n",
       "      <td>0.8</td>\n",
       "      <td>98774</td>\n",
       "      <td>Standard certificate</td>\n",
       "      <td>General ed</td>\n",
       "      <td>Traditional</td>\n",
       "      <td>Doesn't need to be highly qualified</td>\n",
       "      <td>13.0</td>\n",
       "      <td>13.0</td>\n",
       "      <td>15.0</td>\n",
       "    </tr>\n",
       "    <tr>\n",
       "      <th>3</th>\n",
       "      <td>Atlantic</td>\n",
       "      <td>Atlantic City</td>\n",
       "      <td>Atlantic City High School</td>\n",
       "      <td>Resource Program In-class</td>\n",
       "      <td>1.0</td>\n",
       "      <td>66184</td>\n",
       "      <td>Standard certificate</td>\n",
       "      <td>Special ed</td>\n",
       "      <td>Alternate</td>\n",
       "      <td>Doesn't need to be highly qualified</td>\n",
       "      <td>16.0</td>\n",
       "      <td>16.0</td>\n",
       "      <td>16.0</td>\n",
       "    </tr>\n",
       "    <tr>\n",
       "      <th>4</th>\n",
       "      <td>Atlantic</td>\n",
       "      <td>Atlantic City</td>\n",
       "      <td>Atlantic City High School</td>\n",
       "      <td>School Psychologist</td>\n",
       "      <td>1.0</td>\n",
       "      <td>101866</td>\n",
       "      <td>Standard certificate</td>\n",
       "      <td>General ed</td>\n",
       "      <td>Traditional</td>\n",
       "      <td>Doesn't need to be highly qualified</td>\n",
       "      <td>12.0</td>\n",
       "      <td>12.0</td>\n",
       "      <td>12.0</td>\n",
       "    </tr>\n",
       "  </tbody>\n",
       "</table>\n",
       "</div>"
      ],
      "text/plain": [
       "     county       district                     school  \\\n",
       "0  Atlantic  Atlantic City    Pennsylvania Ave School   \n",
       "1  Atlantic  Atlantic City  Atlantic City High School   \n",
       "2  Atlantic  Atlantic City  Atlantic City High School   \n",
       "3  Atlantic  Atlantic City  Atlantic City High School   \n",
       "4  Atlantic  Atlantic City  Atlantic City High School   \n",
       "\n",
       "                   primary_job  fte  salary           certificate subcategory  \\\n",
       "0     Mathematics Grades 5 - 8  1.0   98774  Standard certificate  General ed   \n",
       "1  Coordinator Substance Abuse  1.0  118415  Standard certificate  General ed   \n",
       "2  Health & Physical Education  0.8   98774  Standard certificate  General ed   \n",
       "3    Resource Program In-class  1.0   66184  Standard certificate  Special ed   \n",
       "4          School Psychologist  1.0  101866  Standard certificate  General ed   \n",
       "\n",
       "  teaching_route                     highly_qualified  experience_district  \\\n",
       "0    Traditional                 Not highly qualified                 13.0   \n",
       "1    Traditional  Doesn't need to be highly qualified                 16.0   \n",
       "2    Traditional  Doesn't need to be highly qualified                 13.0   \n",
       "3      Alternate  Doesn't need to be highly qualified                 16.0   \n",
       "4    Traditional  Doesn't need to be highly qualified                 12.0   \n",
       "\n",
       "   experience_nj  experience_total  \n",
       "0           13.0              13.0  \n",
       "1           16.0              16.0  \n",
       "2           13.0              15.0  \n",
       "3           16.0              16.0  \n",
       "4           12.0              12.0  "
      ]
     },
     "execution_count": 3,
     "metadata": {},
     "output_type": "execute_result"
    }
   ],
   "source": [
    "# Reading the dataset\n",
    "input_data = pd.read_csv('nj_teachers_salaries_2016.csv')\n",
    "input_data = input_data.iloc[:,2:]\n",
    "input_data = input_data[input_data['salary']>5000]\n",
    "input_data.head()"
   ]
  },
  {
   "cell_type": "code",
   "execution_count": 4,
   "metadata": {},
   "outputs": [
    {
     "name": "stdout",
     "output_type": "stream",
     "text": [
      "<class 'pandas.core.frame.DataFrame'>\n",
      "Int64Index: 138591 entries, 0 to 138714\n",
      "Data columns (total 13 columns):\n",
      "county                 138591 non-null object\n",
      "district               138591 non-null object\n",
      "school                 138591 non-null object\n",
      "primary_job            138591 non-null object\n",
      "fte                    138512 non-null float64\n",
      "salary                 138591 non-null int64\n",
      "certificate            138589 non-null object\n",
      "subcategory            138591 non-null object\n",
      "teaching_route         138591 non-null object\n",
      "highly_qualified       138591 non-null object\n",
      "experience_district    138065 non-null float64\n",
      "experience_nj          137936 non-null float64\n",
      "experience_total       137925 non-null float64\n",
      "dtypes: float64(4), int64(1), object(8)\n",
      "memory usage: 14.8+ MB\n"
     ]
    },
    {
     "data": {
      "text/plain": [
       "None"
      ]
     },
     "metadata": {},
     "output_type": "display_data"
    }
   ],
   "source": [
    "display(input_data.info())"
   ]
  },
  {
   "cell_type": "code",
   "execution_count": 5,
   "metadata": {},
   "outputs": [
    {
     "name": "stdout",
     "output_type": "stream",
     "text": [
      "there are  13 columns in our dataset\n",
      "there are  138591 rows in our dataset\n"
     ]
    }
   ],
   "source": [
    "print('there are ',input_data.shape[1], 'columns in our dataset')\n",
    "print('there are ',input_data.shape[0], 'rows in our dataset')"
   ]
  },
  {
   "cell_type": "code",
   "execution_count": 6,
   "metadata": {},
   "outputs": [
    {
     "data": {
      "text/html": [
       "<div>\n",
       "<style>\n",
       "    .dataframe thead tr:only-child th {\n",
       "        text-align: right;\n",
       "    }\n",
       "\n",
       "    .dataframe thead th {\n",
       "        text-align: left;\n",
       "    }\n",
       "\n",
       "    .dataframe tbody tr th {\n",
       "        vertical-align: top;\n",
       "    }\n",
       "</style>\n",
       "<table border=\"1\" class=\"dataframe\">\n",
       "  <thead>\n",
       "    <tr style=\"text-align: right;\">\n",
       "      <th></th>\n",
       "      <th>fte</th>\n",
       "      <th>salary</th>\n",
       "      <th>experience_district</th>\n",
       "      <th>experience_nj</th>\n",
       "      <th>experience_total</th>\n",
       "    </tr>\n",
       "  </thead>\n",
       "  <tbody>\n",
       "    <tr>\n",
       "      <th>count</th>\n",
       "      <td>138512.000000</td>\n",
       "      <td>138591.000000</td>\n",
       "      <td>138065.000000</td>\n",
       "      <td>137936.000000</td>\n",
       "      <td>137925.000000</td>\n",
       "    </tr>\n",
       "    <tr>\n",
       "      <th>mean</th>\n",
       "      <td>0.950687</td>\n",
       "      <td>74055.297638</td>\n",
       "      <td>10.545489</td>\n",
       "      <td>11.829247</td>\n",
       "      <td>12.127809</td>\n",
       "    </tr>\n",
       "    <tr>\n",
       "      <th>std</th>\n",
       "      <td>0.157936</td>\n",
       "      <td>22771.177656</td>\n",
       "      <td>8.287664</td>\n",
       "      <td>8.728553</td>\n",
       "      <td>8.880527</td>\n",
       "    </tr>\n",
       "    <tr>\n",
       "      <th>min</th>\n",
       "      <td>0.010000</td>\n",
       "      <td>5200.000000</td>\n",
       "      <td>0.000000</td>\n",
       "      <td>0.000000</td>\n",
       "      <td>0.000000</td>\n",
       "    </tr>\n",
       "    <tr>\n",
       "      <th>25%</th>\n",
       "      <td>1.000000</td>\n",
       "      <td>57265.000000</td>\n",
       "      <td>3.000000</td>\n",
       "      <td>4.000000</td>\n",
       "      <td>5.000000</td>\n",
       "    </tr>\n",
       "    <tr>\n",
       "      <th>50%</th>\n",
       "      <td>1.000000</td>\n",
       "      <td>68950.000000</td>\n",
       "      <td>10.000000</td>\n",
       "      <td>11.000000</td>\n",
       "      <td>11.000000</td>\n",
       "    </tr>\n",
       "    <tr>\n",
       "      <th>75%</th>\n",
       "      <td>1.000000</td>\n",
       "      <td>87210.000000</td>\n",
       "      <td>15.000000</td>\n",
       "      <td>17.000000</td>\n",
       "      <td>17.000000</td>\n",
       "    </tr>\n",
       "    <tr>\n",
       "      <th>max</th>\n",
       "      <td>1.000000</td>\n",
       "      <td>297625.000000</td>\n",
       "      <td>62.000000</td>\n",
       "      <td>62.000000</td>\n",
       "      <td>62.000000</td>\n",
       "    </tr>\n",
       "  </tbody>\n",
       "</table>\n",
       "</div>"
      ],
      "text/plain": [
       "                 fte         salary  experience_district  experience_nj  \\\n",
       "count  138512.000000  138591.000000        138065.000000  137936.000000   \n",
       "mean        0.950687   74055.297638            10.545489      11.829247   \n",
       "std         0.157936   22771.177656             8.287664       8.728553   \n",
       "min         0.010000    5200.000000             0.000000       0.000000   \n",
       "25%         1.000000   57265.000000             3.000000       4.000000   \n",
       "50%         1.000000   68950.000000            10.000000      11.000000   \n",
       "75%         1.000000   87210.000000            15.000000      17.000000   \n",
       "max         1.000000  297625.000000            62.000000      62.000000   \n",
       "\n",
       "       experience_total  \n",
       "count     137925.000000  \n",
       "mean          12.127809  \n",
       "std            8.880527  \n",
       "min            0.000000  \n",
       "25%            5.000000  \n",
       "50%           11.000000  \n",
       "75%           17.000000  \n",
       "max           62.000000  "
      ]
     },
     "metadata": {},
     "output_type": "display_data"
    }
   ],
   "source": [
    "#statistical summary of the dataset\n",
    "display(input_data.describe())"
   ]
  },
  {
   "cell_type": "code",
   "execution_count": 7,
   "metadata": {},
   "outputs": [
    {
     "name": "stdout",
     "output_type": "stream",
     "text": [
      "target_var  0    98774\n",
      "Name: salary, dtype: int64\n",
      "features_col       county       district                   school               primary_job  \\\n",
      "0  Atlantic  Atlantic City  Pennsylvania Ave School  Mathematics Grades 5 - 8   \n",
      "\n",
      "   fte           certificate subcategory teaching_route      highly_qualified  \\\n",
      "0  1.0  Standard certificate  General ed    Traditional  Not highly qualified   \n",
      "\n",
      "   experience_district  experience_nj  experience_total  \n",
      "0                 13.0           13.0              13.0  \n"
     ]
    }
   ],
   "source": [
    "traget_var = input_data['salary']\n",
    "features_col = input_data.drop(['salary'], axis=1)\n",
    "\n",
    "print('target_var ', traget_var.head(n=1))\n",
    "print('features_col ' , features_col.head(n=1))\n"
   ]
  },
  {
   "cell_type": "code",
   "execution_count": 8,
   "metadata": {},
   "outputs": [
    {
     "data": {
      "image/png": "[encoded data removed]",
      "text/plain": [
       "<matplotlib.figure.Figure at 0x1cfd4860>"
      ]
     },
     "metadata": {},
     "output_type": "display_data"
    }
   ],
   "source": [
    "#Salary Distribution in dataset\n",
    "#histogram\n",
    "import seaborn as sns\n",
    "from pandas.tools.plotting import scatter_matrix\n",
    "import matplotlib.pyplot as plt\n",
    "\n",
    "\n",
    "h = sns.distplot(input_data['salary'], bins=30, kde=False)\n",
    "plt.title('Salary distribution in our data')\n",
    "h.figure.set_size_inches(16,6)\n",
    "plt.show()"
   ]
  },
  {
   "cell_type": "code",
   "execution_count": 9,
   "metadata": {},
   "outputs": [
    {
     "data": {
      "image/png": "[encoded data removed]",
      "text/plain": [
       "<matplotlib.figure.Figure at 0x1cfd4be0>"
      ]
     },
     "metadata": {},
     "output_type": "display_data"
    }
   ],
   "source": [
    "\n",
    "# visulize correlations of features with a heatmap# visuli \n",
    "plt.figure(figsize=(10,8))\n",
    "sns.heatmap(input_data.corr(), cmap=\"Blues\")\n",
    "plt.show()\n"
   ]
  },
  {
   "cell_type": "code",
   "execution_count": 10,
   "metadata": {
    "collapsed": true
   },
   "outputs": [],
   "source": [
    "#Using label encoder for my categorical data which has more than two values\n",
    "#Encode County first:\n",
    "from sklearn import preprocessing\n",
    "le = preprocessing.LabelEncoder()\n",
    "\n",
    "#there are some blanks in our certificate column, so replace by word blank where\n",
    "# we will label encode them anyway \n",
    "input_data.certificate.fillna(value='blank', inplace=True)\n",
    "input_data.fte.fillna(value=0, inplace=True)\n",
    "input_data.salary.fillna(value=0, inplace=True)\n",
    "input_data.experience_district.fillna(value=0, inplace=True)\n",
    "input_data.experience_nj.fillna(value=0, inplace=True)\n",
    "input_data.experience_total.fillna(value=0, inplace=True)\n",
    "input_data['county']= le.fit_transform(input_data['county'])\n",
    "input_data['district'] = le.fit_transform(input_data['district'])\n",
    "input_data['school'] = le.fit_transform(input_data['school'])\n",
    "input_data['primary_job'] = le.fit_transform(input_data['primary_job'])\n",
    "input_data['certificate'] =le.fit_transform(input_data['certificate'])\n",
    "input_data['subcategory'] = le.fit_transform(input_data['subcategory'])\n",
    "input_data['teaching_route'] = le.fit_transform(input_data['teaching_route'])\n",
    "input_data['highly_qualified'] = le.fit_transform(input_data['highly_qualified'])\n",
    "#xx= list(le.inverse_transform(x))\n",
    "#print(np.unique(xx))\n",
    "#print(np.unique(x))\n",
    "\n",
    "#input_data['county']= county"
   ]
  },
  {
   "cell_type": "code",
   "execution_count": null,
   "metadata": {},
   "outputs": [],
   "source": [
    "# TODO: Scale the data using the natural logarithm\n",
    "log_data = np.log(input_data)\n",
    "\n",
    "\n",
    "\n",
    "# Produce a scatter matrix for each pair of newly-transformed features\n",
    "pd.scatter_matrix(log_data, alpha = 0.3, figsize = (14,8), diagonal = 'kde');"
   ]
  },
  {
   "cell_type": "code",
   "execution_count": 11,
   "metadata": {},
   "outputs": [
    {
     "data": {
      "image/png": "[encoded data removed]",
      "text/plain": [
       "<matplotlib.figure.Figure at 0x1cc07dd8>"
      ]
     },
     "metadata": {},
     "output_type": "display_data"
    }
   ],
   "source": [
    "# visulize correlations of features with a heatmap# visuli \n",
    "#pd.scatter_matrix(input_data, alpha = 0.3, figsize = (14,8), diagonal = 'kde');\n",
    "plt.figure(figsize=(10,8))\n",
    "sns.heatmap(input_data.corr(), cmap=\"Blues\")\n",
    "#sns.heatmap(input_data.corr())\n",
    "plt.show()"
   ]
  },
  {
   "cell_type": "code",
   "execution_count": 20,
   "metadata": {},
   "outputs": [
    {
     "data": {
      "text/plain": [
       "{'bootstrap': True,\n",
       " 'criterion': 'mse',\n",
       " 'max_depth': None,\n",
       " 'max_features': 'auto',\n",
       " 'max_leaf_nodes': None,\n",
       " 'min_impurity_decrease': 0.0,\n",
       " 'min_impurity_split': None,\n",
       " 'min_samples_leaf': 1,\n",
       " 'min_samples_split': 2,\n",
       " 'min_weight_fraction_leaf': 0.0,\n",
       " 'n_estimators': 100,\n",
       " 'n_jobs': 1,\n",
       " 'oob_score': True,\n",
       " 'random_state': 0,\n",
       " 'verbose': 0,\n",
       " 'warm_start': False}"
      ]
     },
     "execution_count": 20,
     "metadata": {},
     "output_type": "execute_result"
    }
   ],
   "source": [
    "import numpy as np\n",
    "import matplotlib.pyplot as plt\n",
    "import pandas as pd\n",
    "# Fitting Random Forest Regression to the dataset\n",
    "from sklearn.model_selection import train_test_split\n",
    "from sklearn.ensemble import RandomForestRegressor\n",
    "input_data = input_data[input_data['salary']>5000]\n",
    "y= input_data['salary']\n",
    "x=input_data.drop(['salary'], axis=1)\n",
    "x_train, x_test, y_train, y_test = train_test_split(x, y, \n",
    "test_size=0.25, random_state=0) \n",
    "\n",
    "from sklearn.preprocessing import MinMaxScaler\n",
    "scaling = MinMaxScaler(feature_range=(-1,1)).fit(x_train)\n",
    "x_train = scaling.transform(x_train)\n",
    "x_test = scaling.transform(x_test)\n",
    "\n",
    "\n",
    "regressor = RandomForestRegressor(n_estimators = 100, random_state = 0,oob_score=True)\n",
    "regressor.fit(x_train, y_train)\n",
    "\n",
    "# Predicting a new result\n",
    "y_pred = regressor.predict(x_test)\n",
    "\n",
    "regressor.get_params(deep=True)"
   ]
  },
  {
   "cell_type": "code",
   "execution_count": 21,
   "metadata": {},
   "outputs": [
    {
     "name": "stdout",
     "output_type": "stream",
     "text": [
      "Test RMSE: 10557.018\n",
      "Test r^2 score: 0.786\n"
     ]
    }
   ],
   "source": [
    "from numpy import concatenate\n",
    "import math\n",
    "from sklearn.metrics import mean_squared_error\n",
    "from sklearn.metrics import r2_score\n",
    "\n",
    "rmse = math.sqrt(mean_squared_error(y_test, y_pred))\n",
    "print('Test RMSE: %.3f' % rmse)\n",
    "print('Test r^2 score: %.3f' % r2_score(y_test, y_pred))\n"
   ]
  },
  {
   "cell_type": "code",
   "execution_count": null,
   "metadata": {},
   "outputs": [],
   "source": [
    "from sklearn.model_selection import GridSearchCV\n",
    "param_grid = { \n",
    "    'n_estimators': [50, 200],\n",
    "    # 'n_estimators': [100, 200, 500],\n",
    "    #'max_features': ['sqrt', 'log2']\n",
    "}\n",
    "\n",
    "# The scorers can be either be one of the predefined metric strings or a scorer\n",
    "# callable, like the one returned by make_scorer\n",
    "scoring = {'AUC': 'roc_auc', 'F1':'f1', 'Acc':'accuracy'}\n",
    "\n",
    "\n",
    "# Setting refit='AUC', refits an estimator on the whole dataset with the\n",
    "# parameter setting that has the best cross-validated AUC score.\n",
    "# That estimator is made available at ``gs.best_estimator_`` along with\n",
    "# parameters like ``gs.best_score_``, ``gs.best_parameters_`` and\n",
    "# ``gs.best_index_``\n",
    "gs = GridSearchCV(regressor, param_grid=param_grid, verbose=3,\n",
    "                  scoring=scoring, cv=5)\n",
    "\n",
    "\n"
   ]
  },
  {
   "cell_type": "code",
   "execution_count": 16,
   "metadata": {},
   "outputs": [],
   "source": [
    "from sklearn.model_selection import train_test_split\n",
    "from sklearn.ensemble import RandomForestRegressor\n",
    "from sklearn.model_selection import GridSearchCV\n",
    "# Create the parameter grid based on the results of random search \n",
    "input_data = input_data[input_data['salary']>5000]\n",
    "y= input_data['salary']\n",
    "x=input_data.drop(['salary'], axis=1)\n",
    "x_train, x_test, y_train, y_test = train_test_split(x, y, \n",
    "test_size=0.25, random_state=0) \n",
    "\n",
    "from sklearn.preprocessing import MinMaxScaler\n",
    "scaling = MinMaxScaler(feature_range=(-1,1)).fit(x_train)\n",
    "x_train = scaling.transform(x_train)\n",
    "x_test = scaling.transform(x_test)\n",
    "\n",
    "\n",
    "regressor = RandomForestRegressor(n_estimators = 100, random_state = 0,oob_score=True)\n",
    "regressor.fit(x_train, y_train)\n",
    "\n",
    "param_grid = {\n",
    "    'bootstrap': [True],\n",
    "    'max_depth': [10,20,30,40,50],\n",
    "    'max_features': [2, 3],\n",
    "    'min_samples_leaf': [3, 4, 5],\n",
    "    'min_samples_split': [8, 10, 12],\n",
    "    'n_estimators': [10,100,200]\n",
    "}\n",
    "# Create a based model\n",
    "rf = RandomForestRegressor()\n",
    "# Instantiate the grid search model\n",
    "gs = GridSearchCV(estimator = rf, param_grid = param_grid, \n",
    "                          cv = 3, n_jobs = -1, verbose = 2)"
   ]
  },
  {
   "cell_type": "code",
   "execution_count": 17,
   "metadata": {},
   "outputs": [
    {
     "name": "stdout",
     "output_type": "stream",
     "text": [
      "Fitting 3 folds for each of 270 candidates, totalling 810 fits\n"
     ]
    },
    {
     "name": "stderr",
     "output_type": "stream",
     "text": [
      "[Parallel(n_jobs=-1)]: Done  25 tasks      | elapsed:   39.3s\n",
      "[Parallel(n_jobs=-1)]: Done 146 tasks      | elapsed:  3.7min\n",
      "[Parallel(n_jobs=-1)]: Done 349 tasks      | elapsed: 10.0min\n",
      "[Parallel(n_jobs=-1)]: Done 632 tasks      | elapsed: 19.8min\n",
      "[Parallel(n_jobs=-1)]: Done 810 out of 810 | elapsed: 26.0min finished\n"
     ]
    }
   ],
   "source": [
    "gs = gs.fit(x_train, y_train)\n"
   ]
  },
  {
   "cell_type": "code",
   "execution_count": 19,
   "metadata": {},
   "outputs": [
    {
     "name": "stdout",
     "output_type": "stream",
     "text": [
      "0.7546610619406282\n",
      "{'max_features': 3, 'max_depth': 30, 'n_estimators': 200, 'bootstrap': True, 'min_samples_split': 8, 'min_samples_leaf': 3}\n"
     ]
    }
   ],
   "source": [
    "print(gs.best_score_)\n",
    "print(gs.best_params_)"
   ]
  },
  {
   "cell_type": "code",
   "execution_count": 1,
   "metadata": {},
   "outputs": [
    {
     "ename": "NameError",
     "evalue": "name 'x_train' is not defined",
     "output_type": "error",
     "traceback": [
      "\u001b[1;31m---------------------------------------------------------------------------\u001b[0m",
      "\u001b[1;31mNameError\u001b[0m                                 Traceback (most recent call last)",
      "\u001b[1;32m<ipython-input-1-958b88f07bd7>\u001b[0m in \u001b[0;36m<module>\u001b[1;34m()\u001b[0m\n\u001b[0;32m      1\u001b[0m \u001b[1;32mfrom\u001b[0m \u001b[0msklearn\u001b[0m \u001b[1;32mimport\u001b[0m \u001b[0msvm\u001b[0m\u001b[1;33m\u001b[0m\u001b[0m\n\u001b[0;32m      2\u001b[0m \u001b[0msvr_regressor\u001b[0m\u001b[1;33m=\u001b[0m \u001b[0msvm\u001b[0m\u001b[1;33m.\u001b[0m\u001b[0mSVR\u001b[0m\u001b[1;33m(\u001b[0m\u001b[0mkernel\u001b[0m\u001b[1;33m=\u001b[0m\u001b[1;34m'rbf'\u001b[0m\u001b[1;33m,\u001b[0m\u001b[0mcache_size\u001b[0m\u001b[1;33m=\u001b[0m\u001b[1;36m7000\u001b[0m\u001b[1;33m)\u001b[0m\u001b[1;33m\u001b[0m\u001b[0m\n\u001b[1;32m----> 3\u001b[1;33m \u001b[0msvr_regressor\u001b[0m\u001b[1;33m.\u001b[0m\u001b[0mfit\u001b[0m\u001b[1;33m(\u001b[0m\u001b[0mx_train\u001b[0m\u001b[1;33m,\u001b[0m \u001b[0my_train\u001b[0m\u001b[1;33m)\u001b[0m\u001b[1;33m\u001b[0m\u001b[0m\n\u001b[0m\u001b[0;32m      4\u001b[0m \u001b[1;33m\u001b[0m\u001b[0m\n\u001b[0;32m      5\u001b[0m \u001b[0my_pred\u001b[0m \u001b[1;33m=\u001b[0m \u001b[0msvr_regressor\u001b[0m\u001b[1;33m.\u001b[0m\u001b[0mpredict\u001b[0m\u001b[1;33m(\u001b[0m\u001b[0mx_test\u001b[0m\u001b[1;33m)\u001b[0m\u001b[1;33m\u001b[0m\u001b[0m\n",
      "\u001b[1;31mNameError\u001b[0m: name 'x_train' is not defined"
     ]
    }
   ],
   "source": [
    "from sklearn import svm\n",
    "svr_regressor= svm.SVR(kernel='rbf',cache_size=7000)\n",
    "svr_regressor.fit(x_train, y_train) \n",
    "\n",
    "y_pred = svr_regressor.predict(x_test)\n",
    "#array([ 1.5])\n",
    "print(svr_regressor.score(x_test, y_test))\n",
    "\n",
    "rmse = math.sqrt(mean_squared_error(y_test, y_pred))\n",
    "print('Test RMSE: %.3f' % rmse)\n",
    "print('Test r^2 score: %.3f' % r2_score(y_test, y_pred))"
   ]
  },
  {
   "cell_type": "code",
   "execution_count": null,
   "metadata": {},
   "outputs": [
    {
     "name": "stdout",
     "output_type": "stream",
     "text": [
      "Epoch 1/30\n",
      " - 11s - loss: 1816140547.1715\n",
      "Epoch 2/30\n",
      " - 11s - loss: 428009968.7274\n",
      "Epoch 3/30\n",
      " - 10s - loss: 328144463.8648\n",
      "Epoch 4/30\n",
      " - 10s - loss: 289934946.9895\n",
      "Epoch 5/30\n",
      " - 9s - loss: 267936463.5381\n",
      "Epoch 6/30\n",
      " - 10s - loss: 255994899.0432\n",
      "Epoch 7/30\n",
      " - 10s - loss: 249383009.3079\n",
      "Epoch 8/30\n",
      " - 10s - loss: 244140350.6805\n",
      "Epoch 9/30\n",
      " - 10s - loss: 238345324.3282\n",
      "Epoch 10/30\n",
      " - 10s - loss: 231231416.3471\n",
      "Epoch 11/30\n",
      " - 10s - loss: 223112022.5885\n",
      "Epoch 12/30\n",
      " - 10s - loss: 214939974.9744\n",
      "Epoch 13/30\n",
      " - 10s - loss: 208130534.9227\n",
      "Epoch 14/30\n",
      " - 10s - loss: 202997450.7614\n",
      "Epoch 15/30\n",
      " - 10s - loss: 199286649.0216\n",
      "Epoch 16/30\n",
      " - 10s - loss: 196832771.9063\n",
      "Epoch 17/30\n",
      " - 10s - loss: 194994682.5104\n",
      "Epoch 18/30\n",
      " - 10s - loss: 193722912.6673\n",
      "Epoch 19/30\n",
      " - 10s - loss: 192870461.5222\n",
      "Epoch 20/30\n",
      " - 10s - loss: 192291478.2869\n",
      "Epoch 21/30\n",
      " - 10s - loss: 191841946.1270\n",
      "Epoch 22/30\n",
      " - 10s - loss: 191520801.0934\n",
      "Epoch 23/30\n",
      " - 10s - loss: 191245128.4358\n",
      "Epoch 24/30\n",
      " - 10s - loss: 191033651.1519\n",
      "Epoch 25/30\n",
      " - 10s - loss: 190791274.2217\n",
      "Epoch 26/30\n",
      " - 10s - loss: 190554576.8473\n",
      "Epoch 27/30\n",
      " - 10s - loss: 190363096.0771\n",
      "Epoch 28/30\n",
      " - 10s - loss: 190121279.2891\n",
      "Epoch 29/30\n",
      " - 10s - loss: 189991572.4633\n",
      "Epoch 30/30\n",
      " - 10s - loss: 189821104.4302\n",
      "Epoch 1/30\n",
      " - 11s - loss: 6046536543.5665\n",
      "Epoch 2/30\n",
      " - 10s - loss: 6045007494.0537\n",
      "Epoch 3/30\n",
      " - 10s - loss: 6043478418.0331\n",
      "Epoch 4/30\n",
      " - 10s - loss: 6041948457.0707\n",
      "Epoch 5/30\n",
      " - 10s - loss: 6040418851.7756\n",
      "Epoch 6/30\n",
      " - 10s - loss: 6038888674.7707\n",
      "Epoch 7/30\n",
      " - 10s - loss: 6037359534.0162\n",
      "Epoch 8/30\n",
      " - 10s - loss: 6035831610.1827\n",
      "Epoch 9/30\n",
      " - 10s - loss: 6034303484.5914\n",
      "Epoch 10/30\n"
     ]
    }
   ],
   "source": [
    "from sklearn.preprocessing import MinMaxScaler\n",
    "from keras.models import Sequential\n",
    "from keras.layers import Dense\n",
    "from keras.wrappers.scikit_learn import KerasRegressor\n",
    "from sklearn.model_selection import cross_val_score\n",
    "from sklearn.model_selection import KFold\n",
    "from sklearn.preprocessing import MinMaxScaler\n",
    "from sklearn.pipeline import Pipeline\n",
    "def baseline_model():\n",
    "    model = Sequential()\n",
    "    model.add(Dense(6, input_dim=12, kernel_initializer='normal', activation='relu'))\n",
    "    model.add(Dense(4, kernel_initializer='normal', activation='relu'))\n",
    "    model.add(Dense(2, kernel_initializer='normal', activation='relu'))\n",
    "    model.add(Dense(1, kernel_initializer='normal'))\n",
    "    model.compile(loss='mean_squared_error', optimizer='adam')\n",
    "    return model\n",
    "\n",
    "# fix random seed for reproducibility\n",
    "seed = 7\n",
    "\n",
    "np.random.seed(seed)\n",
    "estimators = []\n",
    "estimators.append(('minmax', MinMaxScaler(feature_range=(-1, 1))))\n",
    "estimators.append(('mlp', KerasRegressor(build_fn=baseline_model, epochs=30, batch_size=5, verbose=2)))\n",
    "pipeline = Pipeline(estimators)\n",
    "kfold = KFold(n_splits=2, random_state=seed)\n",
    "results = cross_val_score(pipeline, x_train, y_train, cv=kfold)\n",
    "print(\"Standardized: %.2f (%.2f) MSE\" % (results.mean(), results.std()))"
   ]
  },
  {
   "cell_type": "code",
   "execution_count": null,
   "metadata": {
    "collapsed": true
   },
   "outputs": [],
   "source": [
    "\n",
    "y_pred = pipeline.predict(X_test)"
   ]
  },
  {
   "cell_type": "code",
   "execution_count": null,
   "metadata": {
    "collapsed": true
   },
   "outputs": [],
   "source": [
    "from numpy import concatenate\n",
    "import math\n",
    "from sklearn.metrics import mean_squared_error\n",
    "from sklearn.metrics import r2_score\n",
    "train_predict = pipeline.predict(X)\n",
    "\n",
    "rmse = math.sqrt(mean_squared_error(Y_test, y_pred))\n",
    "print('Test RMSE: %.3f' % rmse)\n",
    "print('Test r^2 score: %.3f' % r2_score(Y_test, y_pred))"
   ]
  }
 ],
 "metadata": {
  "kernelspec": {
   "display_name": "Python 3",
   "language": "python",
   "name": "python3"
  },
  "language_info": {
   "codemirror_mode": {
    "name": "ipython",
    "version": 3
   },
   "file_extension": ".py",
   "mimetype": "text/x-python",
   "name": "python",
   "nbconvert_exporter": "python",
   "pygments_lexer": "ipython3",
   "version": "3.5.4"
  }
 },
 "nbformat": 4,
 "nbformat_minor": 2
}
