{
 "cells": [
  {
   "cell_type": "markdown",
   "metadata": {},
   "source": [
    "# Machine Learning Engineer Nanodegree\n",
    "## Capstone Proposal\n",
    "## Proposal"
   ]
  },
  {
   "cell_type": "markdown",
   "metadata": {},
   "source": [
    "Maryam Samim\n",
    "\n",
    "June 28,2018\n",
    "\n",
    "Using Machine learning Regression models to predict the Salary of NJ teachers based on different features. \n"
   ]
  },
  {
   "cell_type": "markdown",
   "metadata": {},
   "source": [
    "### Domain Background"
   ]
  },
  {
   "cell_type": "markdown",
   "metadata": {},
   "source": [
    "Regression and classification are best ways to find solution to your real world issues and dilemas. With some of the simple models we can make really good prediction of things we care about. For instance given a good dataset about an occupation and the salary associated with it we can make good decision on what to pick and what all we need to move forward. Using the data people can just look at the numbers and visualy check the dataset, but with Machine Learning we can do many things much faster and more accurate. These decisions can make a big impact on our decision making. When getting into the feild of education/teaching, there are many features that will decide your pay such your exprience level, degree etc. "
   ]
  },
  {
   "cell_type": "markdown",
   "metadata": {},
   "source": [
    "### Problem Statement"
   ]
  },
  {
   "cell_type": "markdown",
   "metadata": {},
   "source": [
    "So the Problem I am looking at is related to a family matter which can be a hard decision for many people. As one of my family members is very highly interested in the field of teaching, she is interested to know what are the important feauters that will impact her pay in that field. Some things are very obvious to most like degree or such, but there are other featuers that may greatly impact the pay rate. So I want to see how the given features in this dataset can impact the salary of a teacher."
   ]
  },
  {
   "cell_type": "markdown",
   "metadata": {},
   "source": [
    "### Datasets and Inputs"
   ]
  },
  {
   "cell_type": "markdown",
   "metadata": {},
   "source": [
    "For this capstone project I was looking for some dataset that I will find my interest. So I found a dataset which was related to what problem I wanted to attack with Machine learning. The dataset is from Kaggle site and the dataset url is the following:\n",
    "https://www.kaggle.com/sheilnaik/nj-teacher-salaries-2016\n",
    "\n",
    "Here is the decription of each feature of the dataset:\n",
    "\n",
    "- last_name : Last name of the teachers which I am going to remove when doing the project\n",
    "- First_name\n",
    "- county : Employee's school County\n",
    "- district: Employee's school district\n",
    "- school: Name of employee's school\n",
    "- primary_job: description of employee's job\n",
    "- fte: indicator of full-time status\n",
    "- salary: anual salary\n",
    "- certificate: Description of teaching certification earned by teacher/employee\n",
    "- subcategory: decribing type of teacher\n",
    "- teaching_route: indicates if the employee took the traditional teacher's route\n",
    "- highly_qualified: information about the teacher's qualification\n",
    "- experience_district: employee's number of years of experience in their current district\n",
    "- experience_nj: employee's number of years of experience in NJ\n",
    "- experience_total: Employee's number of years of experience in their career\n",
    "\n",
    "From the above dataset the only variable that will be my target variable/ output is the salary and I will use the rest of the data for input to my modle.\n",
    "I will have to explore the data more and seperate categorical and discrete values. Also do any preprocessing Needed.\n",
    "\n",
    "Currently I think some of the data features are not relevant and I will remove those from my list such as first_name, last_name. But other things looks like having possible impact on our model. I will provid more details of which ones might have low impact as I do the actual coding by finding correlations and things as such.\n"
   ]
  },
  {
   "cell_type": "markdown",
   "metadata": {},
   "source": [
    "### Solution Statement"
   ]
  },
  {
   "cell_type": "markdown",
   "metadata": {},
   "source": [
    "As I mentioned earlier this is a regression problem and I want to try using some of the most often used regression algorithms such as SVR, Random forest and get the scores. Time permitting I want to try neural networks for regression as well to just see how it performs. Where I have a small dataset and it does not make sense to use neural networks, but I want to explore that as well just for fun. At the very moment I have Random Forest and Neural Network in mind but I may use any one of the following models to check for best resutl.\n",
    "\n",
    "- Ligistic Regression\n",
    "- Support Vector Regression\n",
    "- Support Vector Machine SVR\n",
    "- Random Forest(my planned one)\n",
    "- Use of Neural Network for Regression\n",
    "\n"
   ]
  },
  {
   "cell_type": "markdown",
   "metadata": {},
   "source": [
    "### Benchmark Model"
   ]
  },
  {
   "cell_type": "markdown",
   "metadata": {},
   "source": [
    "Since my dataset is a perfect match for supervised learning model, I will be using one of the Supervised models. I would pick Random Forest as the benchmark and try to tune some parameters to improve it. I will also try to use neural networks and compared to benchmark. "
   ]
  },
  {
   "cell_type": "markdown",
   "metadata": {},
   "source": [
    "### Evaluation Metrics"
   ]
  },
  {
   "cell_type": "markdown",
   "metadata": {},
   "source": [
    "I will try to use the metrics related to accuracy, precision for this model."
   ]
  },
  {
   "cell_type": "markdown",
   "metadata": {},
   "source": [
    "### Project Design"
   ]
  },
  {
   "cell_type": "markdown",
   "metadata": {},
   "source": [
    "Here is what I have in mind for doing this project:\n",
    " \n",
    " \n",
    "- Exploring the Data\n",
    "    - Reading the dataset csv file\n",
    "    - getting information for the dataset\n",
    "    - getting the shape of the dataset\n",
    "    - description of statiscs of the dataset\n",
    "   \n",
    "- Preprocessing the dataset\n",
    "    - get_dummies for any categorical variables if any\n",
    "    - use label encoder to lable some of the data if needed\n",
    "    - clean up any rows with missing data column values\n",
    "    - seperate the target column from your dataset\n",
    "    - drop any columns that might not be needed such as names\n",
    "    - split my traning/testing data\n",
    "    - Normalize my data if needed\n",
    "- Chose algorithms and evaluate them:\n",
    "    - Currently I am thinking of using Random Forest Regression as well as some other algorithms\n",
    "    - I might(only if I have many steps) use sklearn pipline to organize some of the steps\n",
    "    - I will also try to implement a neural network model\n",
    "    - Compare my model results.\n",
    "    - Make predection my my test data\n",
    "    - Evaluate my model's performance\n",
    "    -Tune any params if needed\n",
    "    - Make final decision on the results of which model performed better\n",
    "    "
   ]
  },
  {
   "cell_type": "code",
   "execution_count": null,
   "metadata": {
    "collapsed": true
   },
   "outputs": [],
   "source": []
  }
 ],
 "metadata": {
  "kernelspec": {
   "display_name": "Python 3",
   "language": "python",
   "name": "python3"
  },
  "language_info": {
   "codemirror_mode": {
    "name": "ipython",
    "version": 3
   },
   "file_extension": ".py",
   "mimetype": "text/x-python",
   "name": "python",
   "nbconvert_exporter": "python",
   "pygments_lexer": "ipython3",
   "version": "3.5.4"
  }
 },
 "nbformat": 4,
 "nbformat_minor": 2
}
